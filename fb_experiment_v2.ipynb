{
 "cells": [
  {
   "cell_type": "code",
   "execution_count": null,
   "metadata": {},
   "outputs": [],
   "source": [
    "import codecs\n",
    "import pandas as pd\n",
    "from bs4 import BeautifulSoup\n",
    "import re\n",
    "import matplotlib.pyplot as plt\n",
    "import numpy as np\n",
    "import os\n",
    "import seaborn as sns\n",
    "from datetime import datetime\n",
    "\n",
    "directory_to_scan = 'C:/Users/Jakub/Documents/fb_messages/jackpot/messages/inbox/evamatejkova_i6_a0yi4zg/'\n",
    "\n",
    "\n",
    "dir_content = os.listdir(directory_to_scan)\n",
    "message_list = [a for a in dir_content if \"message_\" in a]\n",
    "message_number = message_list[0]\n",
    "\n",
    "clean_list = []\n",
    "month = []\n",
    "day = []\n",
    "year = []\n",
    "time = []\n",
    "year_month = []\n",
    "divs_for_df = []\n",
    "\n",
    "for messagefile in message_list:\n",
    "    message_number = messagefile\n",
    "    file_address = directory_to_scan + message_number\n",
    "\n",
    "    f = codecs.open(file_address, 'r', \"utf-8\")\n",
    "    message_list = f.read()\n",
    "    source = BeautifulSoup(message_list, features = \"html.parser\")\n",
    "    divs = source.find_all(\"div\", attrs={\"_3-94 _2lem\"})\n",
    "    list_div = [x.get_text() for x in divs]\n",
    "\n",
    "    #for div in divs:\n",
    "    #    list_div.append((str(div.find_all(\"span\", attrs={\"_3-94 _2lem\"})[0])[19:]))\n",
    "\n",
    "\n",
    "    \n",
    "    #ampm = []\n",
    "    #list_df = [weekday, month, day, year, time, ampm]\n",
    "\n",
    "\n",
    "    for div in list_div:\n",
    "        print(div)\n",
    "        clean_div = re.search(\"((\\w+) \\d+), (\\d+), (\\d+:\\d+ \\w+)\" ,div)\n",
    "        \n",
    "        #weekday.append(clean_div.group(1))\n",
    "        try:\n",
    "            month.append(clean_div.group(2))\n",
    "            day.append(clean_div.group(1))\n",
    "            year.append(clean_div.group(3))\n",
    "            time.append(clean_div.group(4))\n",
    "            clean_list.append(clean_div.group(0))\n",
    "            clean_div = re.search(\"(\\w+ )\\d+, (\\d+)\", div)\n",
    "            a = clean_div.group(1)\n",
    "            b = clean_div.group(2)\n",
    "            c = a+b\n",
    "            year_month.append(c)\n",
    "            divs_for_df.append(div)\n",
    "        except AttributeError:\n",
    "            print(\"attribute error\")\n",
    "\n",
    "        #ampm.append(clean_div.group(6))\n",
    "    \n",
    "# \n",
    "df = pd.DataFrame(list(zip(day, month, year, year_month, time, divs_for_df)), columns = [\"day\", \"month\", \"year\", \"year_month\", \"time\", \"fulldate\"])\n",
    "\n",
    "df['fulldate'] = df['fulldate'].astype('datetime64[ns]')\n",
    "#df_reverse = df.iloc[::-1]\n",
    "\n",
    "df_sort_year = df.sort_values(\"fulldate\")\n",
    "plott = sns.countplot(df_sort_year[\"year_month\"])\n",
    "plt.xticks(rotation=90)\n",
    "plott\n",
    "\"\"\"\n",
    "plot_ = sns.countplot(df_reverse[\"year_month\"])\n",
    "plt.xticks(rotation=90)\n",
    "for ind, label in enumerate(plot_.get_xticklabels()):\n",
    "    if ind % 4 == 0:  # every 10th label is kept\n",
    "        label.set_visible(True)\n",
    "    else:\n",
    "        label.set_visible(False)\n",
    "#df.groupby([\"time\"]).count().plot(kind='bar')\n",
    "\n",
    "#'Dec 25, 2021, 9:58 AM'\n",
    "#regex až bude hotové = (\\w+), (\\w+? \\d+), (\\d+) \\w+ (\\d+:\\d+)in the (\\w+)\n",
    "#regex_ted = (\\w+'\\w+), (\\w+-\\w+)! (\\d+), (\\d+) roundabouts (\\d+:\\d+)in the (\\w+)\n",
    "\"\"\""
   ]
  },
  {
   "cell_type": "code",
   "execution_count": null,
   "metadata": {},
   "outputs": [],
   "source": [
    "#plot_ = sns.countplot(df_reverse[\"year_month\"])\n",
    "df_sort_year = df.sort_values(\"fulldate\")\n",
    "adela = sns.countplot(df_sort_year[\"year_month\"])\n",
    "plt.xticks(rotation=90)\n",
    "adela\n",
    "\n",
    "for ind, label in enumerate(adela.get_xticklabels()):\n",
    "    if ind % 4 == 0:  # every 10th label is kept\n",
    "        label.set_visible(True)\n",
    "    else:\n",
    "        label.set_visible(False)\n",
    "\n"
   ]
  },
  {
   "cell_type": "code",
   "execution_count": null,
   "metadata": {},
   "outputs": [],
   "source": [
    "list_div"
   ]
  },
  {
   "cell_type": "code",
   "execution_count": null,
   "metadata": {},
   "outputs": [],
   "source": [
    "df.sort_values(by = [\"fulldate\"], ascending = True)"
   ]
  },
  {
   "cell_type": "code",
   "execution_count": null,
   "metadata": {},
   "outputs": [],
   "source": [
    "df_sort_year.sample(50)"
   ]
  },
  {
   "cell_type": "code",
   "execution_count": null,
   "metadata": {},
   "outputs": [],
   "source": [
    "directory_to_scan = 'C:/Users/Jakub/Documents/fb_messages/jackpot/messages/inbox/ferididnothingwrong_4ctzhjkhoq/'\n",
    "\n",
    "\n",
    "dir_content = os.listdir(directory_to_scan)\n",
    "messages = [entry for entry in dir_content if \"message_\" in entry]\n",
    "message_number = messages[0]"
   ]
  },
  {
   "cell_type": "code",
   "execution_count": null,
   "metadata": {},
   "outputs": [],
   "source": [
    "directory_to_scan = 'C:/Users/Jakub/Documents/fb_messages/jackpot/messages/inbox/ferididnothingwrong_4ctzhjkhoq/'\n",
    "dir_content = os.listdir(directory_to_scan)\n",
    "message_list = [entry for entry in dir_content if \"message_\" in entry]\n",
    "message_list"
   ]
  },
  {
   "cell_type": "code",
   "execution_count": null,
   "metadata": {},
   "outputs": [],
   "source": []
  }
 ],
 "metadata": {
  "interpreter": {
   "hash": "6e5c665652c1b0e5975dd49eb5b7cc3cfbafc5dfa6ad78b74ff334e9ae6c0f18"
  },
  "kernelspec": {
   "display_name": "Python 3.9.4 64-bit",
   "name": "python3"
  },
  "language_info": {
   "codemirror_mode": {
    "name": "ipython",
    "version": 3
   },
   "file_extension": ".py",
   "mimetype": "text/x-python",
   "name": "python",
   "nbconvert_exporter": "python",
   "pygments_lexer": "ipython3",
   "version": "3.9.4"
  },
  "orig_nbformat": 4
 },
 "nbformat": 4,
 "nbformat_minor": 2
}
